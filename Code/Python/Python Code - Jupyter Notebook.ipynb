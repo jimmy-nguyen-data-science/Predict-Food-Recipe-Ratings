{
 "cells": [
  {
   "cell_type": "markdown",
   "id": "e0a3d76a",
   "metadata": {},
   "source": [
    "# Final Project - Food.com Ratings Classification\n",
    "\n",
    "\n",
    "_Name_:  **Jimmy Nguyen**, **Jose Luis Estrada**, **Ashutosh Singh**\n",
    "\n",
    "_Class Assignment_: **ADS 504 Final Project - Baseline Models**"
   ]
  },
  {
   "cell_type": "markdown",
   "id": "d51120eb",
   "metadata": {},
   "source": [
    "# Packages"
   ]
  },
  {
   "cell_type": "code",
   "execution_count": 1,
   "id": "d9bdc292",
   "metadata": {},
   "outputs": [],
   "source": [
    "import seaborn as sns\n",
    "import pandas as pd\n",
    "import numpy as np\n",
    "import os\n",
    "import json\n",
    "import re\n",
    "import random\n",
    "import matplotlib.pyplot as plt\n",
    "import matplotlib.pylab as pylab\n",
    "from sklearn import preprocessing\n",
    "from sklearn.model_selection import train_test_split\n",
    "from sklearn.tree import DecisionTreeClassifier\n",
    "from sklearn.linear_model import Perceptron\n",
    "from sklearn.metrics import plot_confusion_matrix\n",
    "from sklearn import tree\n",
    "from sklearn.impute import SimpleImputer\n",
    "from sklearn.preprocessing import OrdinalEncoder\n",
    "from sklearn.preprocessing import OneHotEncoder\n",
    "from sklearn.metrics import classification_report\n",
    "from sklearn.preprocessing import Normalizer\n",
    "from sklearn.preprocessing import StandardScaler\n",
    "from sklearn.model_selection import cross_val_score\n",
    "from sklearn import preprocessing\n",
    "from sklearn.feature_selection import SelectKBest\n",
    "from sklearn.feature_selection import chi2\n",
    "from sklearn.pipeline import make_pipeline\n",
    "from sklearn.feature_extraction.text import TfidfVectorizer\n",
    "import scipy.sparse\n",
    "from sklearn.neural_network import MLPClassifier\n",
    "from sklearn.model_selection import StratifiedKFold\n",
    "from sklearn.linear_model import SGDClassifier\n",
    "\n",
    "from sklearn.model_selection import train_test_split\n",
    "from sklearn.metrics import confusion_matrix, accuracy_score\n",
    "\n",
    "import warnings # warnings packagedefine bust size\n",
    "warnings.filterwarnings('ignore') # hide warnings\n",
    "%matplotlib inline  \n",
    "plt.style.use('seaborn')\n",
    "pd.set_option('display.max_colwidth', None)"
   ]
  },
  {
   "cell_type": "markdown",
   "id": "dffaaafd",
   "metadata": {},
   "source": [
    "---- \n",
    "\n",
    "# Linear Classifier (Logistic) Model"
   ]
  },
  {
   "cell_type": "markdown",
   "id": "836d91e8",
   "metadata": {},
   "source": [
    "## Interactions Data "
   ]
  },
  {
   "cell_type": "code",
   "execution_count": 2,
   "id": "eda87721",
   "metadata": {},
   "outputs": [
    {
     "data": {
      "text/html": [
       "<div>\n",
       "<style scoped>\n",
       "    .dataframe tbody tr th:only-of-type {\n",
       "        vertical-align: middle;\n",
       "    }\n",
       "\n",
       "    .dataframe tbody tr th {\n",
       "        vertical-align: top;\n",
       "    }\n",
       "\n",
       "    .dataframe thead th {\n",
       "        text-align: right;\n",
       "    }\n",
       "</style>\n",
       "<table border=\"1\" class=\"dataframe\">\n",
       "  <thead>\n",
       "    <tr style=\"text-align: right;\">\n",
       "      <th></th>\n",
       "      <th>user_id</th>\n",
       "      <th>recipe_id</th>\n",
       "      <th>date</th>\n",
       "      <th>rating</th>\n",
       "      <th>review</th>\n",
       "    </tr>\n",
       "  </thead>\n",
       "  <tbody>\n",
       "    <tr>\n",
       "      <th>0</th>\n",
       "      <td>38094</td>\n",
       "      <td>40893</td>\n",
       "      <td>2003-02-17</td>\n",
       "      <td>4</td>\n",
       "      <td>Great with a salad. Cooked on top of stove for 15 minutes.Added a shake of cayenne and a pinch of salt.  Used low fat sour cream.  Thanks.</td>\n",
       "    </tr>\n",
       "    <tr>\n",
       "      <th>1</th>\n",
       "      <td>1293707</td>\n",
       "      <td>40893</td>\n",
       "      <td>2011-12-21</td>\n",
       "      <td>5</td>\n",
       "      <td>So simple, so delicious! Great for chilly fall evening. Should have doubled it ;)&lt;br/&gt;&lt;br/&gt;Second time around, forgot the remaining cumin. We usually love cumin, but didn't notice the missing 1/2 teaspoon!</td>\n",
       "    </tr>\n",
       "    <tr>\n",
       "      <th>2</th>\n",
       "      <td>8937</td>\n",
       "      <td>44394</td>\n",
       "      <td>2002-12-01</td>\n",
       "      <td>4</td>\n",
       "      <td>This worked very well and is EASY.  I used not quite a whole package (10oz) of white chips.  Great!</td>\n",
       "    </tr>\n",
       "    <tr>\n",
       "      <th>3</th>\n",
       "      <td>126440</td>\n",
       "      <td>85009</td>\n",
       "      <td>2010-02-27</td>\n",
       "      <td>5</td>\n",
       "      <td>I made the Mexican topping and took it to bunko.  Everyone loved it.</td>\n",
       "    </tr>\n",
       "    <tr>\n",
       "      <th>4</th>\n",
       "      <td>57222</td>\n",
       "      <td>85009</td>\n",
       "      <td>2011-10-01</td>\n",
       "      <td>5</td>\n",
       "      <td>Made the cheddar bacon topping, adding a sprinkling of black pepper. Yum!</td>\n",
       "    </tr>\n",
       "  </tbody>\n",
       "</table>\n",
       "</div>"
      ],
      "text/plain": [
       "   user_id  recipe_id        date  rating  \\\n",
       "0    38094      40893  2003-02-17       4   \n",
       "1  1293707      40893  2011-12-21       5   \n",
       "2     8937      44394  2002-12-01       4   \n",
       "3   126440      85009  2010-02-27       5   \n",
       "4    57222      85009  2011-10-01       5   \n",
       "\n",
       "                                                                                                                                                                                                          review  \n",
       "0                                                                     Great with a salad. Cooked on top of stove for 15 minutes.Added a shake of cayenne and a pinch of salt.  Used low fat sour cream.  Thanks.  \n",
       "1  So simple, so delicious! Great for chilly fall evening. Should have doubled it ;)<br/><br/>Second time around, forgot the remaining cumin. We usually love cumin, but didn't notice the missing 1/2 teaspoon!  \n",
       "2                                                                                                            This worked very well and is EASY.  I used not quite a whole package (10oz) of white chips.  Great!  \n",
       "3                                                                                                                                           I made the Mexican topping and took it to bunko.  Everyone loved it.  \n",
       "4                                                                                                                                      Made the cheddar bacon topping, adding a sprinkling of black pepper. Yum!  "
      ]
     },
     "execution_count": 2,
     "metadata": {},
     "output_type": "execute_result"
    }
   ],
   "source": [
    "interact = pd.read_csv(\"data/RAW_interactions.csv\")\n",
    "interact.head()"
   ]
  },
  {
   "cell_type": "markdown",
   "id": "5a2d1399",
   "metadata": {},
   "source": [
    "### Select only needed columns "
   ]
  },
  {
   "cell_type": "code",
   "execution_count": 3,
   "id": "2843a45d",
   "metadata": {},
   "outputs": [
    {
     "data": {
      "text/html": [
       "<div>\n",
       "<style scoped>\n",
       "    .dataframe tbody tr th:only-of-type {\n",
       "        vertical-align: middle;\n",
       "    }\n",
       "\n",
       "    .dataframe tbody tr th {\n",
       "        vertical-align: top;\n",
       "    }\n",
       "\n",
       "    .dataframe thead th {\n",
       "        text-align: right;\n",
       "    }\n",
       "</style>\n",
       "<table border=\"1\" class=\"dataframe\">\n",
       "  <thead>\n",
       "    <tr style=\"text-align: right;\">\n",
       "      <th></th>\n",
       "      <th>recipe_id</th>\n",
       "      <th>review</th>\n",
       "      <th>rating</th>\n",
       "    </tr>\n",
       "  </thead>\n",
       "  <tbody>\n",
       "    <tr>\n",
       "      <th>0</th>\n",
       "      <td>40893</td>\n",
       "      <td>Great with a salad. Cooked on top of stove for 15 minutes.Added a shake of cayenne and a pinch of salt.  Used low fat sour cream.  Thanks.</td>\n",
       "      <td>4</td>\n",
       "    </tr>\n",
       "    <tr>\n",
       "      <th>1</th>\n",
       "      <td>40893</td>\n",
       "      <td>So simple, so delicious! Great for chilly fall evening. Should have doubled it ;)&lt;br/&gt;&lt;br/&gt;Second time around, forgot the remaining cumin. We usually love cumin, but didn't notice the missing 1/2 teaspoon!</td>\n",
       "      <td>5</td>\n",
       "    </tr>\n",
       "    <tr>\n",
       "      <th>2</th>\n",
       "      <td>44394</td>\n",
       "      <td>This worked very well and is EASY.  I used not quite a whole package (10oz) of white chips.  Great!</td>\n",
       "      <td>4</td>\n",
       "    </tr>\n",
       "    <tr>\n",
       "      <th>3</th>\n",
       "      <td>85009</td>\n",
       "      <td>I made the Mexican topping and took it to bunko.  Everyone loved it.</td>\n",
       "      <td>5</td>\n",
       "    </tr>\n",
       "    <tr>\n",
       "      <th>4</th>\n",
       "      <td>85009</td>\n",
       "      <td>Made the cheddar bacon topping, adding a sprinkling of black pepper. Yum!</td>\n",
       "      <td>5</td>\n",
       "    </tr>\n",
       "  </tbody>\n",
       "</table>\n",
       "</div>"
      ],
      "text/plain": [
       "   recipe_id  \\\n",
       "0      40893   \n",
       "1      40893   \n",
       "2      44394   \n",
       "3      85009   \n",
       "4      85009   \n",
       "\n",
       "                                                                                                                                                                                                          review  \\\n",
       "0                                                                     Great with a salad. Cooked on top of stove for 15 minutes.Added a shake of cayenne and a pinch of salt.  Used low fat sour cream.  Thanks.   \n",
       "1  So simple, so delicious! Great for chilly fall evening. Should have doubled it ;)<br/><br/>Second time around, forgot the remaining cumin. We usually love cumin, but didn't notice the missing 1/2 teaspoon!   \n",
       "2                                                                                                            This worked very well and is EASY.  I used not quite a whole package (10oz) of white chips.  Great!   \n",
       "3                                                                                                                                           I made the Mexican topping and took it to bunko.  Everyone loved it.   \n",
       "4                                                                                                                                      Made the cheddar bacon topping, adding a sprinkling of black pepper. Yum!   \n",
       "\n",
       "   rating  \n",
       "0       4  \n",
       "1       5  \n",
       "2       4  \n",
       "3       5  \n",
       "4       5  "
      ]
     },
     "execution_count": 3,
     "metadata": {},
     "output_type": "execute_result"
    }
   ],
   "source": [
    "interact = interact[['recipe_id','review','rating']]\n",
    "interact.head()"
   ]
  },
  {
   "cell_type": "code",
   "execution_count": 4,
   "id": "25aeb047",
   "metadata": {},
   "outputs": [
    {
     "data": {
      "text/plain": [
       "(1132367, 3)"
      ]
     },
     "execution_count": 4,
     "metadata": {},
     "output_type": "execute_result"
    }
   ],
   "source": [
    "interact.shape"
   ]
  },
  {
   "cell_type": "markdown",
   "id": "be8bf0e3",
   "metadata": {},
   "source": [
    "### Encode Ratings to Positive and Negative Classes"
   ]
  },
  {
   "cell_type": "code",
   "execution_count": 5,
   "id": "48793977",
   "metadata": {},
   "outputs": [],
   "source": [
    "interact = interact[interact['rating'] != 3]\n",
    "interact['Positively_Rated'] = np.where(interact['rating'] < 3,1,0)\n",
    "interact = interact.drop(['rating'], axis = 1)"
   ]
  },
  {
   "cell_type": "code",
   "execution_count": 6,
   "id": "f3890ad1",
   "metadata": {},
   "outputs": [
    {
     "data": {
      "text/plain": [
       "0    1003724\n",
       "1      87788\n",
       "Name: Positively_Rated, dtype: int64"
      ]
     },
     "execution_count": 6,
     "metadata": {},
     "output_type": "execute_result"
    }
   ],
   "source": [
    "interact['Positively_Rated'].value_counts()"
   ]
  },
  {
   "cell_type": "markdown",
   "id": "8aa87b32",
   "metadata": {},
   "source": [
    "### Handle Missing Values "
   ]
  },
  {
   "cell_type": "code",
   "execution_count": 7,
   "id": "68064dc3",
   "metadata": {},
   "outputs": [],
   "source": [
    "interact = interact.dropna()"
   ]
  },
  {
   "cell_type": "code",
   "execution_count": 8,
   "id": "4d548d05",
   "metadata": {},
   "outputs": [
    {
     "data": {
      "text/plain": [
       "recipe_id           0\n",
       "review              0\n",
       "Positively_Rated    0\n",
       "dtype: int64"
      ]
     },
     "execution_count": 8,
     "metadata": {},
     "output_type": "execute_result"
    }
   ],
   "source": [
    "interact.isnull().sum()"
   ]
  },
  {
   "cell_type": "markdown",
   "id": "46b46bc7",
   "metadata": {},
   "source": [
    "### Final Class Proportion "
   ]
  },
  {
   "cell_type": "code",
   "execution_count": 9,
   "id": "b50fd602",
   "metadata": {},
   "outputs": [
    {
     "data": {
      "text/plain": [
       "0    0.919564\n",
       "1    0.080436\n",
       "Name: Positively_Rated, dtype: float64"
      ]
     },
     "execution_count": 9,
     "metadata": {},
     "output_type": "execute_result"
    }
   ],
   "source": [
    "interact['Positively_Rated'].value_counts() / interact.shape[0]"
   ]
  },
  {
   "cell_type": "markdown",
   "id": "935c16c9",
   "metadata": {},
   "source": [
    "### Merge Interact with Recipes"
   ]
  },
  {
   "cell_type": "code",
   "execution_count": 10,
   "id": "ec53cfee",
   "metadata": {},
   "outputs": [
    {
     "name": "stdout",
     "output_type": "stream",
     "text": [
      "CPU times: user 3.8 s, sys: 177 ms, total: 3.98 s\n",
      "Wall time: 3.99 s\n"
     ]
    }
   ],
   "source": [
    "%%time\n",
    "\n",
    "recipes = pd.read_csv(\"data/RAW_recipes.csv\")\n",
    "\n",
    "df = pd.merge(recipes, interact, how = \"inner\", left_on = 'id',\n",
    "             right_on = 'recipe_id')"
   ]
  },
  {
   "cell_type": "markdown",
   "id": "54e2a88f",
   "metadata": {},
   "source": [
    "## Convert Review Text into Features"
   ]
  },
  {
   "cell_type": "code",
   "execution_count": 11,
   "id": "cf40a7e4",
   "metadata": {},
   "outputs": [
    {
     "data": {
      "text/plain": [
       "[' I used an acorn squash and recipe#137681 Sweet Mexican spice blend. Only used 1 tsp honey & 1 tsp butter between both halves,, sprinkled the squash liberally with the spice mix. Baked covered for 45 minutes uncovered or 15.  I basted the squash   with the the butter/honey from the cavity  allowing it to get a golden color.  Lovely Squash recipe Thanks Cookgirl']"
      ]
     },
     "execution_count": 11,
     "metadata": {},
     "output_type": "execute_result"
    }
   ],
   "source": [
    "corpus_df = df[['review']]\n",
    "corpus = corpus_df['review'].tolist()\n",
    "corpus[:1]"
   ]
  },
  {
   "cell_type": "code",
   "execution_count": 12,
   "id": "806ac38a",
   "metadata": {},
   "outputs": [
    {
     "name": "stdout",
     "output_type": "stream",
     "text": [
      "CPU times: user 1min 48s, sys: 928 ms, total: 1min 49s\n",
      "Wall time: 1min 49s\n"
     ]
    },
    {
     "data": {
      "text/html": [
       "<div>\n",
       "<style scoped>\n",
       "    .dataframe tbody tr th:only-of-type {\n",
       "        vertical-align: middle;\n",
       "    }\n",
       "\n",
       "    .dataframe tbody tr th {\n",
       "        vertical-align: top;\n",
       "    }\n",
       "\n",
       "    .dataframe thead th {\n",
       "        text-align: right;\n",
       "    }\n",
       "</style>\n",
       "<table border=\"1\" class=\"dataframe\">\n",
       "  <thead>\n",
       "    <tr style=\"text-align: right;\">\n",
       "      <th></th>\n",
       "      <th>00</th>\n",
       "      <th>000</th>\n",
       "      <th>0000</th>\n",
       "      <th>000000</th>\n",
       "      <th>0000001</th>\n",
       "      <th>0000laalaa</th>\n",
       "      <th>000170</th>\n",
       "      <th>000ft</th>\n",
       "      <th>000g</th>\n",
       "      <th>000mg</th>\n",
       "      <th>...</th>\n",
       "      <th>œvolcano</th>\n",
       "      <th>œwasteâ</th>\n",
       "      <th>œwe</th>\n",
       "      <th>œwhat</th>\n",
       "      <th>œwhiteâ</th>\n",
       "      <th>œwow</th>\n",
       "      <th>œyes</th>\n",
       "      <th>œzipâ</th>\n",
       "      <th>šo</th>\n",
       "      <th>šopsky</th>\n",
       "    </tr>\n",
       "  </thead>\n",
       "  <tbody>\n",
       "    <tr>\n",
       "      <th>0</th>\n",
       "      <td>0.0</td>\n",
       "      <td>0.0</td>\n",
       "      <td>0.0</td>\n",
       "      <td>0.0</td>\n",
       "      <td>0.0</td>\n",
       "      <td>0.0</td>\n",
       "      <td>0.0</td>\n",
       "      <td>0.0</td>\n",
       "      <td>0.0</td>\n",
       "      <td>0.0</td>\n",
       "      <td>...</td>\n",
       "      <td>0.0</td>\n",
       "      <td>0.0</td>\n",
       "      <td>0.0</td>\n",
       "      <td>0.0</td>\n",
       "      <td>0.0</td>\n",
       "      <td>0.0</td>\n",
       "      <td>0.0</td>\n",
       "      <td>0.0</td>\n",
       "      <td>0.0</td>\n",
       "      <td>0.0</td>\n",
       "    </tr>\n",
       "    <tr>\n",
       "      <th>1</th>\n",
       "      <td>0.0</td>\n",
       "      <td>0.0</td>\n",
       "      <td>0.0</td>\n",
       "      <td>0.0</td>\n",
       "      <td>0.0</td>\n",
       "      <td>0.0</td>\n",
       "      <td>0.0</td>\n",
       "      <td>0.0</td>\n",
       "      <td>0.0</td>\n",
       "      <td>0.0</td>\n",
       "      <td>...</td>\n",
       "      <td>0.0</td>\n",
       "      <td>0.0</td>\n",
       "      <td>0.0</td>\n",
       "      <td>0.0</td>\n",
       "      <td>0.0</td>\n",
       "      <td>0.0</td>\n",
       "      <td>0.0</td>\n",
       "      <td>0.0</td>\n",
       "      <td>0.0</td>\n",
       "      <td>0.0</td>\n",
       "    </tr>\n",
       "    <tr>\n",
       "      <th>2</th>\n",
       "      <td>0.0</td>\n",
       "      <td>0.0</td>\n",
       "      <td>0.0</td>\n",
       "      <td>0.0</td>\n",
       "      <td>0.0</td>\n",
       "      <td>0.0</td>\n",
       "      <td>0.0</td>\n",
       "      <td>0.0</td>\n",
       "      <td>0.0</td>\n",
       "      <td>0.0</td>\n",
       "      <td>...</td>\n",
       "      <td>0.0</td>\n",
       "      <td>0.0</td>\n",
       "      <td>0.0</td>\n",
       "      <td>0.0</td>\n",
       "      <td>0.0</td>\n",
       "      <td>0.0</td>\n",
       "      <td>0.0</td>\n",
       "      <td>0.0</td>\n",
       "      <td>0.0</td>\n",
       "      <td>0.0</td>\n",
       "    </tr>\n",
       "    <tr>\n",
       "      <th>3</th>\n",
       "      <td>0.0</td>\n",
       "      <td>0.0</td>\n",
       "      <td>0.0</td>\n",
       "      <td>0.0</td>\n",
       "      <td>0.0</td>\n",
       "      <td>0.0</td>\n",
       "      <td>0.0</td>\n",
       "      <td>0.0</td>\n",
       "      <td>0.0</td>\n",
       "      <td>0.0</td>\n",
       "      <td>...</td>\n",
       "      <td>0.0</td>\n",
       "      <td>0.0</td>\n",
       "      <td>0.0</td>\n",
       "      <td>0.0</td>\n",
       "      <td>0.0</td>\n",
       "      <td>0.0</td>\n",
       "      <td>0.0</td>\n",
       "      <td>0.0</td>\n",
       "      <td>0.0</td>\n",
       "      <td>0.0</td>\n",
       "    </tr>\n",
       "    <tr>\n",
       "      <th>4</th>\n",
       "      <td>0.0</td>\n",
       "      <td>0.0</td>\n",
       "      <td>0.0</td>\n",
       "      <td>0.0</td>\n",
       "      <td>0.0</td>\n",
       "      <td>0.0</td>\n",
       "      <td>0.0</td>\n",
       "      <td>0.0</td>\n",
       "      <td>0.0</td>\n",
       "      <td>0.0</td>\n",
       "      <td>...</td>\n",
       "      <td>0.0</td>\n",
       "      <td>0.0</td>\n",
       "      <td>0.0</td>\n",
       "      <td>0.0</td>\n",
       "      <td>0.0</td>\n",
       "      <td>0.0</td>\n",
       "      <td>0.0</td>\n",
       "      <td>0.0</td>\n",
       "      <td>0.0</td>\n",
       "      <td>0.0</td>\n",
       "    </tr>\n",
       "  </tbody>\n",
       "</table>\n",
       "<p>5 rows × 148641 columns</p>\n",
       "</div>"
      ],
      "text/plain": [
       "    00  000  0000  000000  0000001  0000laalaa  000170  000ft  000g  000mg  \\\n",
       "0  0.0  0.0   0.0     0.0      0.0         0.0     0.0    0.0   0.0    0.0   \n",
       "1  0.0  0.0   0.0     0.0      0.0         0.0     0.0    0.0   0.0    0.0   \n",
       "2  0.0  0.0   0.0     0.0      0.0         0.0     0.0    0.0   0.0    0.0   \n",
       "3  0.0  0.0   0.0     0.0      0.0         0.0     0.0    0.0   0.0    0.0   \n",
       "4  0.0  0.0   0.0     0.0      0.0         0.0     0.0    0.0   0.0    0.0   \n",
       "\n",
       "   ...  œvolcano  œwasteâ  œwe  œwhat  œwhiteâ  œwow  œyes  œzipâ   šo  šopsky  \n",
       "0  ...       0.0      0.0  0.0    0.0      0.0   0.0   0.0    0.0  0.0     0.0  \n",
       "1  ...       0.0      0.0  0.0    0.0      0.0   0.0   0.0    0.0  0.0     0.0  \n",
       "2  ...       0.0      0.0  0.0    0.0      0.0   0.0   0.0    0.0  0.0     0.0  \n",
       "3  ...       0.0      0.0  0.0    0.0      0.0   0.0   0.0    0.0  0.0     0.0  \n",
       "4  ...       0.0      0.0  0.0    0.0      0.0   0.0   0.0    0.0  0.0     0.0  \n",
       "\n",
       "[5 rows x 148641 columns]"
      ]
     },
     "execution_count": 12,
     "metadata": {},
     "output_type": "execute_result"
    }
   ],
   "source": [
    "%%time\n",
    "\n",
    "vectorizer = TfidfVectorizer(stop_words='english')\n",
    "reviews = vectorizer.fit_transform(corpus)\n",
    "reviews = pd.DataFrame.sparse.from_spmatrix(reviews, columns = vectorizer.get_feature_names())\n",
    "reviews = reviews.drop(['wasn', '039',\n",
    "                       'quot','sounds',\n",
    "                       'tag','posting'], axis = 1)\n",
    "reviews.head()"
   ]
  },
  {
   "cell_type": "markdown",
   "id": "33de0673",
   "metadata": {},
   "source": [
    "## Feature Selection - Top 20 Features "
   ]
  },
  {
   "cell_type": "code",
   "execution_count": 13,
   "id": "da3942a9",
   "metadata": {},
   "outputs": [],
   "source": [
    "y = df['Positively_Rated']"
   ]
  },
  {
   "cell_type": "code",
   "execution_count": 14,
   "id": "a937579f",
   "metadata": {},
   "outputs": [
    {
     "data": {
      "text/html": [
       "<div>\n",
       "<style scoped>\n",
       "    .dataframe tbody tr th:only-of-type {\n",
       "        vertical-align: middle;\n",
       "    }\n",
       "\n",
       "    .dataframe tbody tr th {\n",
       "        vertical-align: top;\n",
       "    }\n",
       "\n",
       "    .dataframe thead th {\n",
       "        text-align: right;\n",
       "    }\n",
       "</style>\n",
       "<table border=\"1\" class=\"dataframe\">\n",
       "  <thead>\n",
       "    <tr style=\"text-align: right;\">\n",
       "      <th></th>\n",
       "      <th>Top 20 Features</th>\n",
       "    </tr>\n",
       "  </thead>\n",
       "  <tbody>\n",
       "    <tr>\n",
       "      <th>0</th>\n",
       "      <td>awful</td>\n",
       "    </tr>\n",
       "    <tr>\n",
       "      <th>1</th>\n",
       "      <td>bad</td>\n",
       "    </tr>\n",
       "    <tr>\n",
       "      <th>2</th>\n",
       "      <td>bland</td>\n",
       "    </tr>\n",
       "    <tr>\n",
       "      <th>3</th>\n",
       "      <td>disappointed</td>\n",
       "    </tr>\n",
       "    <tr>\n",
       "      <th>4</th>\n",
       "      <td>disappointing</td>\n",
       "    </tr>\n",
       "    <tr>\n",
       "      <th>5</th>\n",
       "      <td>disgusting</td>\n",
       "    </tr>\n",
       "    <tr>\n",
       "      <th>6</th>\n",
       "      <td>easy</td>\n",
       "    </tr>\n",
       "    <tr>\n",
       "      <th>7</th>\n",
       "      <td>edible</td>\n",
       "    </tr>\n",
       "    <tr>\n",
       "      <th>8</th>\n",
       "      <td>horrible</td>\n",
       "    </tr>\n",
       "    <tr>\n",
       "      <th>9</th>\n",
       "      <td>inedible</td>\n",
       "    </tr>\n",
       "    <tr>\n",
       "      <th>10</th>\n",
       "      <td>ok</td>\n",
       "    </tr>\n",
       "    <tr>\n",
       "      <th>11</th>\n",
       "      <td>sorry</td>\n",
       "    </tr>\n",
       "    <tr>\n",
       "      <th>12</th>\n",
       "      <td>tasteless</td>\n",
       "    </tr>\n",
       "    <tr>\n",
       "      <th>13</th>\n",
       "      <td>terrible</td>\n",
       "    </tr>\n",
       "    <tr>\n",
       "      <th>14</th>\n",
       "      <td>thanks</td>\n",
       "    </tr>\n",
       "    <tr>\n",
       "      <th>15</th>\n",
       "      <td>waste</td>\n",
       "    </tr>\n",
       "    <tr>\n",
       "      <th>16</th>\n",
       "      <td>wasted</td>\n",
       "    </tr>\n",
       "    <tr>\n",
       "      <th>17</th>\n",
       "      <td>worst</td>\n",
       "    </tr>\n",
       "    <tr>\n",
       "      <th>18</th>\n",
       "      <td>wrong</td>\n",
       "    </tr>\n",
       "    <tr>\n",
       "      <th>19</th>\n",
       "      <td>yuck</td>\n",
       "    </tr>\n",
       "  </tbody>\n",
       "</table>\n",
       "</div>"
      ],
      "text/plain": [
       "   Top 20 Features\n",
       "0            awful\n",
       "1              bad\n",
       "2            bland\n",
       "3     disappointed\n",
       "4    disappointing\n",
       "5       disgusting\n",
       "6             easy\n",
       "7           edible\n",
       "8         horrible\n",
       "9         inedible\n",
       "10              ok\n",
       "11           sorry\n",
       "12       tasteless\n",
       "13        terrible\n",
       "14          thanks\n",
       "15           waste\n",
       "16          wasted\n",
       "17           worst\n",
       "18           wrong\n",
       "19            yuck"
      ]
     },
     "execution_count": 14,
     "metadata": {},
     "output_type": "execute_result"
    }
   ],
   "source": [
    "selector = SelectKBest(chi2, k=20).fit(reviews, y)\n",
    "cols = selector.get_support(indices=True)\n",
    "top_20 = reviews.iloc[:,cols]\n",
    "top20 = pd.DataFrame(top_20.columns, columns = [\"Top 20 Features\"])\n",
    "top20"
   ]
  },
  {
   "cell_type": "code",
   "execution_count": 15,
   "id": "1120a764",
   "metadata": {},
   "outputs": [
    {
     "data": {
      "text/html": [
       "<div>\n",
       "<style scoped>\n",
       "    .dataframe tbody tr th:only-of-type {\n",
       "        vertical-align: middle;\n",
       "    }\n",
       "\n",
       "    .dataframe tbody tr th {\n",
       "        vertical-align: top;\n",
       "    }\n",
       "\n",
       "    .dataframe thead th {\n",
       "        text-align: right;\n",
       "    }\n",
       "</style>\n",
       "<table border=\"1\" class=\"dataframe\">\n",
       "  <thead>\n",
       "    <tr style=\"text-align: right;\">\n",
       "      <th></th>\n",
       "      <th>awful</th>\n",
       "      <th>bad</th>\n",
       "      <th>bland</th>\n",
       "      <th>disappointed</th>\n",
       "      <th>disappointing</th>\n",
       "      <th>disgusting</th>\n",
       "      <th>easy</th>\n",
       "      <th>edible</th>\n",
       "      <th>horrible</th>\n",
       "      <th>inedible</th>\n",
       "      <th>ok</th>\n",
       "      <th>sorry</th>\n",
       "      <th>tasteless</th>\n",
       "      <th>terrible</th>\n",
       "      <th>thanks</th>\n",
       "      <th>waste</th>\n",
       "      <th>wasted</th>\n",
       "      <th>worst</th>\n",
       "      <th>wrong</th>\n",
       "      <th>yuck</th>\n",
       "    </tr>\n",
       "  </thead>\n",
       "  <tbody>\n",
       "    <tr>\n",
       "      <th>0</th>\n",
       "      <td>0.0</td>\n",
       "      <td>0.0</td>\n",
       "      <td>0.0</td>\n",
       "      <td>0.0</td>\n",
       "      <td>0.0</td>\n",
       "      <td>0.0</td>\n",
       "      <td>0.0</td>\n",
       "      <td>0.0</td>\n",
       "      <td>0.0</td>\n",
       "      <td>0.0</td>\n",
       "      <td>0.0</td>\n",
       "      <td>0.0</td>\n",
       "      <td>0.0</td>\n",
       "      <td>0.0</td>\n",
       "      <td>0.046001</td>\n",
       "      <td>0.0</td>\n",
       "      <td>0.0</td>\n",
       "      <td>0.0</td>\n",
       "      <td>0.0</td>\n",
       "      <td>0.0</td>\n",
       "    </tr>\n",
       "    <tr>\n",
       "      <th>1</th>\n",
       "      <td>0.0</td>\n",
       "      <td>0.0</td>\n",
       "      <td>0.0</td>\n",
       "      <td>0.0</td>\n",
       "      <td>0.0</td>\n",
       "      <td>0.0</td>\n",
       "      <td>0.0</td>\n",
       "      <td>0.0</td>\n",
       "      <td>0.0</td>\n",
       "      <td>0.0</td>\n",
       "      <td>0.0</td>\n",
       "      <td>0.0</td>\n",
       "      <td>0.0</td>\n",
       "      <td>0.0</td>\n",
       "      <td>0.000000</td>\n",
       "      <td>0.0</td>\n",
       "      <td>0.0</td>\n",
       "      <td>0.0</td>\n",
       "      <td>0.0</td>\n",
       "      <td>0.0</td>\n",
       "    </tr>\n",
       "    <tr>\n",
       "      <th>2</th>\n",
       "      <td>0.0</td>\n",
       "      <td>0.0</td>\n",
       "      <td>0.0</td>\n",
       "      <td>0.0</td>\n",
       "      <td>0.0</td>\n",
       "      <td>0.0</td>\n",
       "      <td>0.0</td>\n",
       "      <td>0.0</td>\n",
       "      <td>0.0</td>\n",
       "      <td>0.0</td>\n",
       "      <td>0.0</td>\n",
       "      <td>0.0</td>\n",
       "      <td>0.0</td>\n",
       "      <td>0.0</td>\n",
       "      <td>0.127171</td>\n",
       "      <td>0.0</td>\n",
       "      <td>0.0</td>\n",
       "      <td>0.0</td>\n",
       "      <td>0.0</td>\n",
       "      <td>0.0</td>\n",
       "    </tr>\n",
       "    <tr>\n",
       "      <th>3</th>\n",
       "      <td>0.0</td>\n",
       "      <td>0.0</td>\n",
       "      <td>0.0</td>\n",
       "      <td>0.0</td>\n",
       "      <td>0.0</td>\n",
       "      <td>0.0</td>\n",
       "      <td>0.0</td>\n",
       "      <td>0.0</td>\n",
       "      <td>0.0</td>\n",
       "      <td>0.0</td>\n",
       "      <td>0.0</td>\n",
       "      <td>0.0</td>\n",
       "      <td>0.0</td>\n",
       "      <td>0.0</td>\n",
       "      <td>0.000000</td>\n",
       "      <td>0.0</td>\n",
       "      <td>0.0</td>\n",
       "      <td>0.0</td>\n",
       "      <td>0.0</td>\n",
       "      <td>0.0</td>\n",
       "    </tr>\n",
       "    <tr>\n",
       "      <th>4</th>\n",
       "      <td>0.0</td>\n",
       "      <td>0.0</td>\n",
       "      <td>0.0</td>\n",
       "      <td>0.0</td>\n",
       "      <td>0.0</td>\n",
       "      <td>0.0</td>\n",
       "      <td>0.0</td>\n",
       "      <td>0.0</td>\n",
       "      <td>0.0</td>\n",
       "      <td>0.0</td>\n",
       "      <td>0.0</td>\n",
       "      <td>0.0</td>\n",
       "      <td>0.0</td>\n",
       "      <td>0.0</td>\n",
       "      <td>0.000000</td>\n",
       "      <td>0.0</td>\n",
       "      <td>0.0</td>\n",
       "      <td>0.0</td>\n",
       "      <td>0.0</td>\n",
       "      <td>0.0</td>\n",
       "    </tr>\n",
       "  </tbody>\n",
       "</table>\n",
       "</div>"
      ],
      "text/plain": [
       "   awful  bad  bland  disappointed  disappointing  disgusting  easy  edible  \\\n",
       "0    0.0  0.0    0.0           0.0            0.0         0.0   0.0     0.0   \n",
       "1    0.0  0.0    0.0           0.0            0.0         0.0   0.0     0.0   \n",
       "2    0.0  0.0    0.0           0.0            0.0         0.0   0.0     0.0   \n",
       "3    0.0  0.0    0.0           0.0            0.0         0.0   0.0     0.0   \n",
       "4    0.0  0.0    0.0           0.0            0.0         0.0   0.0     0.0   \n",
       "\n",
       "   horrible  inedible   ok  sorry  tasteless  terrible    thanks  waste  \\\n",
       "0       0.0       0.0  0.0    0.0        0.0       0.0  0.046001    0.0   \n",
       "1       0.0       0.0  0.0    0.0        0.0       0.0  0.000000    0.0   \n",
       "2       0.0       0.0  0.0    0.0        0.0       0.0  0.127171    0.0   \n",
       "3       0.0       0.0  0.0    0.0        0.0       0.0  0.000000    0.0   \n",
       "4       0.0       0.0  0.0    0.0        0.0       0.0  0.000000    0.0   \n",
       "\n",
       "   wasted  worst  wrong  yuck  \n",
       "0     0.0    0.0    0.0   0.0  \n",
       "1     0.0    0.0    0.0   0.0  \n",
       "2     0.0    0.0    0.0   0.0  \n",
       "3     0.0    0.0    0.0   0.0  \n",
       "4     0.0    0.0    0.0   0.0  "
      ]
     },
     "execution_count": 15,
     "metadata": {},
     "output_type": "execute_result"
    }
   ],
   "source": [
    "X = reviews.iloc[:,cols]\n",
    "X.head()"
   ]
  },
  {
   "cell_type": "code",
   "execution_count": 16,
   "id": "0687f206",
   "metadata": {},
   "outputs": [
    {
     "data": {
      "text/plain": [
       "Index(['awful', 'bad', 'bland', 'disappointed', 'disappointing', 'disgusting',\n",
       "       'easy', 'edible', 'horrible', 'inedible', 'ok', 'sorry', 'tasteless',\n",
       "       'terrible', 'thanks', 'waste', 'wasted', 'worst', 'wrong', 'yuck'],\n",
       "      dtype='object')"
      ]
     },
     "execution_count": 16,
     "metadata": {},
     "output_type": "execute_result"
    }
   ],
   "source": [
    "X.columns"
   ]
  },
  {
   "cell_type": "code",
   "execution_count": null,
   "id": "5c501a2c",
   "metadata": {},
   "outputs": [],
   "source": [
    "X.shape"
   ]
  },
  {
   "cell_type": "markdown",
   "id": "2ce293e9",
   "metadata": {},
   "source": [
    "# Baseline Model "
   ]
  },
  {
   "cell_type": "markdown",
   "id": "a6085ad7",
   "metadata": {},
   "source": [
    "### L1"
   ]
  },
  {
   "cell_type": "code",
   "execution_count": null,
   "id": "8b97e03d",
   "metadata": {},
   "outputs": [],
   "source": [
    "alphas = [0.0001,0.001,0.01,0.1,1,10,100,1000]\n",
    "penalty = 'l1'"
   ]
  },
  {
   "cell_type": "code",
   "execution_count": null,
   "id": "67371c77",
   "metadata": {},
   "outputs": [],
   "source": [
    "%%time\n",
    "l1_scores = []\n",
    "\n",
    "for a in alphas:\n",
    "    log  = make_pipeline(SGDClassifier(loss = \"log\",\n",
    "                                       penalty = penalty,\n",
    "                                       alpha = a,\n",
    "                                       class_weight = \"balanced\",\n",
    "                                       max_iter=1000, \n",
    "                                       tol=1e-3,\n",
    "                                       random_state = 1))\n",
    "    cv =  StratifiedKFold(n_splits=5, random_state = None) \n",
    "    avg_score = np.mean(cross_val_score(log, X, y,\n",
    "                                        cv=cv,scoring='f1',\n",
    "                                        n_jobs=-1))\n",
    "    \n",
    "    print(\"Current Alpha:\", a, ' Average F-1 Score: ', round(avg_score,4))\n",
    "    l1_scores.append(avg_score)\n",
    "    "
   ]
  },
  {
   "cell_type": "markdown",
   "id": "4c59cec0",
   "metadata": {},
   "source": [
    "### L2"
   ]
  },
  {
   "cell_type": "code",
   "execution_count": null,
   "id": "5adbc39c",
   "metadata": {},
   "outputs": [],
   "source": [
    "penalty = 'l2'"
   ]
  },
  {
   "cell_type": "code",
   "execution_count": null,
   "id": "99197480",
   "metadata": {},
   "outputs": [],
   "source": [
    "%%time\n",
    "l2_scores = []\n",
    "\n",
    "for a in alphas:\n",
    "    log  = make_pipeline(SGDClassifier(loss = \"log\",\n",
    "                                       penalty = penalty,\n",
    "                                       alpha = a,\n",
    "                                       class_weight = \"balanced\",\n",
    "                                       max_iter=1000, \n",
    "                                       tol=1e-3,\n",
    "                                       random_state = 1))\n",
    "    cv =  StratifiedKFold(n_splits=5, random_state = None) \n",
    "    avg_score = np.mean(cross_val_score(log, X, y,\n",
    "                                        cv=5,scoring='f1',\n",
    "                                        n_jobs=-1))\n",
    "    \n",
    "    print(\"Current Alpha:\", a, ' Average F-1 Score: ', round(avg_score,4))\n",
    "    l2_scores.append(avg_score) "
   ]
  },
  {
   "cell_type": "markdown",
   "id": "81ec0315",
   "metadata": {},
   "source": [
    "## Table Report "
   ]
  },
  {
   "cell_type": "code",
   "execution_count": null,
   "id": "359eace8",
   "metadata": {},
   "outputs": [],
   "source": [
    "table_report = {'Alphas':alphas,\n",
    "               'L1 Penalty - Accuracy': l1_scores,\n",
    "               'L2 Penalty - Accuracy': l2_scores}\n",
    "\n",
    "table_df = pd.DataFrame(table_report)\n",
    "table_df = table_df.set_index('Alphas')\n",
    "table_df"
   ]
  },
  {
   "cell_type": "markdown",
   "id": "afd47cbf",
   "metadata": {},
   "source": [
    "## Regularization Accuracy Plot"
   ]
  },
  {
   "cell_type": "code",
   "execution_count": null,
   "id": "26b360c7",
   "metadata": {},
   "outputs": [],
   "source": [
    "fig,ax=plt.subplots(figsize=(7,5))\n",
    "ax.plot(table_df.index,\n",
    "        table_df[\"L1 Penalty - Accuracy\"],\n",
    "       label = 'L1 Penalty')\n",
    "ax.set(xscale=\"log\")\n",
    "\n",
    "ax.plot(table_df.index,\n",
    "        table_df[\"L2 Penalty - Accuracy\"],\n",
    "       label = 'L2 Penalty')\n",
    "ax.set(xscale=\"log\")\n",
    "\n",
    "plt.xlabel('Alphas')\n",
    "plt.ylabel('Average F-1 Score')\n",
    "plt.legend()\n",
    "plt.show()"
   ]
  },
  {
   "cell_type": "markdown",
   "id": "5fb2cf84",
   "metadata": {},
   "source": [
    "## Optimal Baseline Model "
   ]
  },
  {
   "cell_type": "code",
   "execution_count": null,
   "id": "ff45bb0b",
   "metadata": {},
   "outputs": [],
   "source": [
    "X_train, X_test, y_train, y_test = train_test_split(X, y, test_size=0.33, random_state = 1)\n",
    "print(X_train.shape, X_test.shape, y_train.shape, y_test.shape)"
   ]
  },
  {
   "cell_type": "code",
   "execution_count": null,
   "id": "303a724e",
   "metadata": {},
   "outputs": [],
   "source": [
    "penalty = 'l2'\n",
    "alpha = 0.1"
   ]
  },
  {
   "cell_type": "code",
   "execution_count": null,
   "id": "b2f81dd1",
   "metadata": {},
   "outputs": [],
   "source": [
    "log  = make_pipeline(SGDClassifier(loss = \"log\",\n",
    "                                       penalty = penalty,\n",
    "                                       alpha = alpha,\n",
    "                                       class_weight = \"balanced\",\n",
    "                                       max_iter=1000, \n",
    "                                       tol=1e-3,\n",
    "                                       random_state = 1))"
   ]
  },
  {
   "cell_type": "code",
   "execution_count": null,
   "id": "5b0927e5",
   "metadata": {},
   "outputs": [],
   "source": [
    "# Fit Model\n",
    "log.fit(X_train,y_train)\n",
    "\n",
    "# make predictions\n",
    "ypred = log.predict(X_test)\n",
    "\n",
    "from sklearn.metrics import f1_score\n",
    "# evaluate predictions\n",
    "f1 = f1_score(y_test, ypred)\n",
    "print('F1: ', f1)"
   ]
  },
  {
   "cell_type": "markdown",
   "id": "612c6294",
   "metadata": {},
   "source": [
    "## Classification Report "
   ]
  },
  {
   "cell_type": "code",
   "execution_count": null,
   "id": "60bedb65",
   "metadata": {},
   "outputs": [],
   "source": [
    "print(classification_report(y_test, ypred))"
   ]
  },
  {
   "cell_type": "markdown",
   "id": "59b760bc",
   "metadata": {},
   "source": [
    "-------------------"
   ]
  },
  {
   "cell_type": "markdown",
   "id": "84ba0f44",
   "metadata": {},
   "source": [
    "# Improving the Baseline Model "
   ]
  },
  {
   "cell_type": "markdown",
   "id": "a685ab0e",
   "metadata": {},
   "source": [
    "## Feature Engineering"
   ]
  },
  {
   "cell_type": "code",
   "execution_count": 17,
   "id": "a7661893",
   "metadata": {},
   "outputs": [
    {
     "name": "stdout",
     "output_type": "stream",
     "text": [
      "CPU times: user 5.84 s, sys: 732 ms, total: 6.57 s\n",
      "Wall time: 6.59 s\n"
     ]
    },
    {
     "data": {
      "text/html": [
       "<div>\n",
       "<style scoped>\n",
       "    .dataframe tbody tr th:only-of-type {\n",
       "        vertical-align: middle;\n",
       "    }\n",
       "\n",
       "    .dataframe tbody tr th {\n",
       "        vertical-align: top;\n",
       "    }\n",
       "\n",
       "    .dataframe thead th {\n",
       "        text-align: right;\n",
       "    }\n",
       "</style>\n",
       "<table border=\"1\" class=\"dataframe\">\n",
       "  <thead>\n",
       "    <tr style=\"text-align: right;\">\n",
       "      <th></th>\n",
       "      <th>minutes</th>\n",
       "      <th>contributor_id</th>\n",
       "      <th>submitted</th>\n",
       "      <th>tags</th>\n",
       "      <th>n_steps</th>\n",
       "      <th>steps</th>\n",
       "      <th>description</th>\n",
       "      <th>n_ingredients</th>\n",
       "      <th>review</th>\n",
       "      <th>Positively_Rated</th>\n",
       "      <th>calories</th>\n",
       "      <th>total fat</th>\n",
       "      <th>sugar</th>\n",
       "      <th>sodium</th>\n",
       "      <th>protein</th>\n",
       "      <th>saturated fat</th>\n",
       "      <th>carbohydrates</th>\n",
       "    </tr>\n",
       "  </thead>\n",
       "  <tbody>\n",
       "    <tr>\n",
       "      <th>0</th>\n",
       "      <td>55</td>\n",
       "      <td>47892</td>\n",
       "      <td>2005-09-16</td>\n",
       "      <td>['60-minutes-or-less', 'time-to-make', 'course', 'main-ingredient', 'cuisine', 'preparation', 'occasion', 'north-american', 'side-dishes', 'vegetables', 'mexican', 'easy', 'fall', 'holiday-event', 'vegetarian', 'winter', 'dietary', 'christmas', 'seasonal', 'squash']</td>\n",
       "      <td>11</td>\n",
       "      <td>['make a choice and proceed with recipe', 'depending on size of squash , cut into half or fourths', 'remove seeds', 'for spicy squash , drizzle olive oil or melted butter over each cut squash piece', 'season with mexican seasoning mix ii', 'for sweet squash , drizzle melted honey , butter , grated piloncillo over each cut squash piece', 'season with sweet mexican spice mix', 'bake at 350 degrees , again depending on size , for 40 minutes up to an hour , until a fork can easily pierce the skin', 'be careful not to burn the squash especially if you opt to use sugar or butter', 'if you feel more comfortable , cover the squash with aluminum foil the first half hour , give or take , of baking', 'if desired , season with salt']</td>\n",
       "      <td>autumn is my favorite time of year to cook! this recipe \\r\\ncan be prepared either spicy or sweet, your choice!\\r\\ntwo of my posted mexican-inspired seasoning mix recipes are offered as suggestions.</td>\n",
       "      <td>7</td>\n",
       "      <td>I used an acorn squash and recipe#137681 Sweet Mexican spice blend. Only used 1 tsp honey &amp; 1 tsp butter between both halves,, sprinkled the squash liberally with the spice mix. Baked covered for 45 minutes uncovered or 15.  I basted the squash   with the the butter/honey from the cavity  allowing it to get a golden color.  Lovely Squash recipe Thanks Cookgirl</td>\n",
       "      <td>0</td>\n",
       "      <td>51.5</td>\n",
       "      <td>0.0</td>\n",
       "      <td>13.0</td>\n",
       "      <td>0.0</td>\n",
       "      <td>2.0</td>\n",
       "      <td>0.0</td>\n",
       "      <td>4.0</td>\n",
       "    </tr>\n",
       "    <tr>\n",
       "      <th>1</th>\n",
       "      <td>55</td>\n",
       "      <td>47892</td>\n",
       "      <td>2005-09-16</td>\n",
       "      <td>['60-minutes-or-less', 'time-to-make', 'course', 'main-ingredient', 'cuisine', 'preparation', 'occasion', 'north-american', 'side-dishes', 'vegetables', 'mexican', 'easy', 'fall', 'holiday-event', 'vegetarian', 'winter', 'dietary', 'christmas', 'seasonal', 'squash']</td>\n",
       "      <td>11</td>\n",
       "      <td>['make a choice and proceed with recipe', 'depending on size of squash , cut into half or fourths', 'remove seeds', 'for spicy squash , drizzle olive oil or melted butter over each cut squash piece', 'season with mexican seasoning mix ii', 'for sweet squash , drizzle melted honey , butter , grated piloncillo over each cut squash piece', 'season with sweet mexican spice mix', 'bake at 350 degrees , again depending on size , for 40 minutes up to an hour , until a fork can easily pierce the skin', 'be careful not to burn the squash especially if you opt to use sugar or butter', 'if you feel more comfortable , cover the squash with aluminum foil the first half hour , give or take , of baking', 'if desired , season with salt']</td>\n",
       "      <td>autumn is my favorite time of year to cook! this recipe \\r\\ncan be prepared either spicy or sweet, your choice!\\r\\ntwo of my posted mexican-inspired seasoning mix recipes are offered as suggestions.</td>\n",
       "      <td>7</td>\n",
       "      <td>This was a nice change. I used butternut squash and the sweet option using a good local honey and unsalted butter. I did not add salt. We ate this on top of recipe#322603 with Balkan yogurt. I may make this again same option. Made for Ramadan Tag 2010.</td>\n",
       "      <td>0</td>\n",
       "      <td>51.5</td>\n",
       "      <td>0.0</td>\n",
       "      <td>13.0</td>\n",
       "      <td>0.0</td>\n",
       "      <td>2.0</td>\n",
       "      <td>0.0</td>\n",
       "      <td>4.0</td>\n",
       "    </tr>\n",
       "    <tr>\n",
       "      <th>2</th>\n",
       "      <td>55</td>\n",
       "      <td>47892</td>\n",
       "      <td>2005-09-16</td>\n",
       "      <td>['60-minutes-or-less', 'time-to-make', 'course', 'main-ingredient', 'cuisine', 'preparation', 'occasion', 'north-american', 'side-dishes', 'vegetables', 'mexican', 'easy', 'fall', 'holiday-event', 'vegetarian', 'winter', 'dietary', 'christmas', 'seasonal', 'squash']</td>\n",
       "      <td>11</td>\n",
       "      <td>['make a choice and proceed with recipe', 'depending on size of squash , cut into half or fourths', 'remove seeds', 'for spicy squash , drizzle olive oil or melted butter over each cut squash piece', 'season with mexican seasoning mix ii', 'for sweet squash , drizzle melted honey , butter , grated piloncillo over each cut squash piece', 'season with sweet mexican spice mix', 'bake at 350 degrees , again depending on size , for 40 minutes up to an hour , until a fork can easily pierce the skin', 'be careful not to burn the squash especially if you opt to use sugar or butter', 'if you feel more comfortable , cover the squash with aluminum foil the first half hour , give or take , of baking', 'if desired , season with salt']</td>\n",
       "      <td>autumn is my favorite time of year to cook! this recipe \\r\\ncan be prepared either spicy or sweet, your choice!\\r\\ntwo of my posted mexican-inspired seasoning mix recipes are offered as suggestions.</td>\n",
       "      <td>7</td>\n",
       "      <td>Excellent recipe! I used butternut squash and the sweet option. The mexican spice mix put this over the top. Thanks for sharing.</td>\n",
       "      <td>0</td>\n",
       "      <td>51.5</td>\n",
       "      <td>0.0</td>\n",
       "      <td>13.0</td>\n",
       "      <td>0.0</td>\n",
       "      <td>2.0</td>\n",
       "      <td>0.0</td>\n",
       "      <td>4.0</td>\n",
       "    </tr>\n",
       "    <tr>\n",
       "      <th>3</th>\n",
       "      <td>30</td>\n",
       "      <td>26278</td>\n",
       "      <td>2002-06-17</td>\n",
       "      <td>['30-minutes-or-less', 'time-to-make', 'course', 'main-ingredient', 'cuisine', 'preparation', 'occasion', 'north-american', 'breakfast', 'main-dish', 'pork', 'american', 'oven', 'easy', 'kid-friendly', 'pizza', 'dietary', 'northeastern-united-states', 'meat', 'equipment']</td>\n",
       "      <td>9</td>\n",
       "      <td>['preheat oven to 425 degrees f', 'press dough into the bottom and sides of a 12 inch pizza pan', 'bake for 5 minutes until set but not browned', 'cut sausage into small pieces', 'whisk eggs and milk in a bowl until frothy', 'spoon sausage over baked crust and sprinkle with cheese', 'pour egg mixture slowly over sausage and cheese', 's&amp; p to taste', 'bake 15-20 minutes or until eggs are set and crust is brown']</td>\n",
       "      <td>this recipe calls for the crust to be prebaked a bit before adding ingredients. feel free to change sausage to ham or bacon. this warms well in the microwave for those late risers.</td>\n",
       "      <td>6</td>\n",
       "      <td>Have not tried this, but it sounds delicious. Reminds me of a layover I had at the Atlanta airport.  I had a ham, egg, and cheese pizza at one of the pizza chain places on the concourse.  About $2.99 with coffee... It was one of the best breakfast dishes I ever had!  (But a strange place to find a delicious breakfast...lol)</td>\n",
       "      <td>1</td>\n",
       "      <td>173.4</td>\n",
       "      <td>18.0</td>\n",
       "      <td>0.0</td>\n",
       "      <td>17.0</td>\n",
       "      <td>22.0</td>\n",
       "      <td>35.0</td>\n",
       "      <td>1.0</td>\n",
       "    </tr>\n",
       "    <tr>\n",
       "      <th>4</th>\n",
       "      <td>30</td>\n",
       "      <td>26278</td>\n",
       "      <td>2002-06-17</td>\n",
       "      <td>['30-minutes-or-less', 'time-to-make', 'course', 'main-ingredient', 'cuisine', 'preparation', 'occasion', 'north-american', 'breakfast', 'main-dish', 'pork', 'american', 'oven', 'easy', 'kid-friendly', 'pizza', 'dietary', 'northeastern-united-states', 'meat', 'equipment']</td>\n",
       "      <td>9</td>\n",
       "      <td>['preheat oven to 425 degrees f', 'press dough into the bottom and sides of a 12 inch pizza pan', 'bake for 5 minutes until set but not browned', 'cut sausage into small pieces', 'whisk eggs and milk in a bowl until frothy', 'spoon sausage over baked crust and sprinkle with cheese', 'pour egg mixture slowly over sausage and cheese', 's&amp; p to taste', 'bake 15-20 minutes or until eggs are set and crust is brown']</td>\n",
       "      <td>this recipe calls for the crust to be prebaked a bit before adding ingredients. feel free to change sausage to ham or bacon. this warms well in the microwave for those late risers.</td>\n",
       "      <td>6</td>\n",
       "      <td>This recipe was wonderful.  Instead of using the precooked sausage I substituted uncooked sausage then cooked and drained it. It turned out perfect!</td>\n",
       "      <td>0</td>\n",
       "      <td>173.4</td>\n",
       "      <td>18.0</td>\n",
       "      <td>0.0</td>\n",
       "      <td>17.0</td>\n",
       "      <td>22.0</td>\n",
       "      <td>35.0</td>\n",
       "      <td>1.0</td>\n",
       "    </tr>\n",
       "  </tbody>\n",
       "</table>\n",
       "</div>"
      ],
      "text/plain": [
       "   minutes  contributor_id   submitted  \\\n",
       "0       55           47892  2005-09-16   \n",
       "1       55           47892  2005-09-16   \n",
       "2       55           47892  2005-09-16   \n",
       "3       30           26278  2002-06-17   \n",
       "4       30           26278  2002-06-17   \n",
       "\n",
       "                                                                                                                                                                                                                                                                               tags  \\\n",
       "0        ['60-minutes-or-less', 'time-to-make', 'course', 'main-ingredient', 'cuisine', 'preparation', 'occasion', 'north-american', 'side-dishes', 'vegetables', 'mexican', 'easy', 'fall', 'holiday-event', 'vegetarian', 'winter', 'dietary', 'christmas', 'seasonal', 'squash']   \n",
       "1        ['60-minutes-or-less', 'time-to-make', 'course', 'main-ingredient', 'cuisine', 'preparation', 'occasion', 'north-american', 'side-dishes', 'vegetables', 'mexican', 'easy', 'fall', 'holiday-event', 'vegetarian', 'winter', 'dietary', 'christmas', 'seasonal', 'squash']   \n",
       "2        ['60-minutes-or-less', 'time-to-make', 'course', 'main-ingredient', 'cuisine', 'preparation', 'occasion', 'north-american', 'side-dishes', 'vegetables', 'mexican', 'easy', 'fall', 'holiday-event', 'vegetarian', 'winter', 'dietary', 'christmas', 'seasonal', 'squash']   \n",
       "3  ['30-minutes-or-less', 'time-to-make', 'course', 'main-ingredient', 'cuisine', 'preparation', 'occasion', 'north-american', 'breakfast', 'main-dish', 'pork', 'american', 'oven', 'easy', 'kid-friendly', 'pizza', 'dietary', 'northeastern-united-states', 'meat', 'equipment']   \n",
       "4  ['30-minutes-or-less', 'time-to-make', 'course', 'main-ingredient', 'cuisine', 'preparation', 'occasion', 'north-american', 'breakfast', 'main-dish', 'pork', 'american', 'oven', 'easy', 'kid-friendly', 'pizza', 'dietary', 'northeastern-united-states', 'meat', 'equipment']   \n",
       "\n",
       "   n_steps  \\\n",
       "0       11   \n",
       "1       11   \n",
       "2       11   \n",
       "3        9   \n",
       "4        9   \n",
       "\n",
       "                                                                                                                                                                                                                                                                                                                                                                                                                                                                                                                                                                                                                                                                                                                                                         steps  \\\n",
       "0  ['make a choice and proceed with recipe', 'depending on size of squash , cut into half or fourths', 'remove seeds', 'for spicy squash , drizzle olive oil or melted butter over each cut squash piece', 'season with mexican seasoning mix ii', 'for sweet squash , drizzle melted honey , butter , grated piloncillo over each cut squash piece', 'season with sweet mexican spice mix', 'bake at 350 degrees , again depending on size , for 40 minutes up to an hour , until a fork can easily pierce the skin', 'be careful not to burn the squash especially if you opt to use sugar or butter', 'if you feel more comfortable , cover the squash with aluminum foil the first half hour , give or take , of baking', 'if desired , season with salt']   \n",
       "1  ['make a choice and proceed with recipe', 'depending on size of squash , cut into half or fourths', 'remove seeds', 'for spicy squash , drizzle olive oil or melted butter over each cut squash piece', 'season with mexican seasoning mix ii', 'for sweet squash , drizzle melted honey , butter , grated piloncillo over each cut squash piece', 'season with sweet mexican spice mix', 'bake at 350 degrees , again depending on size , for 40 minutes up to an hour , until a fork can easily pierce the skin', 'be careful not to burn the squash especially if you opt to use sugar or butter', 'if you feel more comfortable , cover the squash with aluminum foil the first half hour , give or take , of baking', 'if desired , season with salt']   \n",
       "2  ['make a choice and proceed with recipe', 'depending on size of squash , cut into half or fourths', 'remove seeds', 'for spicy squash , drizzle olive oil or melted butter over each cut squash piece', 'season with mexican seasoning mix ii', 'for sweet squash , drizzle melted honey , butter , grated piloncillo over each cut squash piece', 'season with sweet mexican spice mix', 'bake at 350 degrees , again depending on size , for 40 minutes up to an hour , until a fork can easily pierce the skin', 'be careful not to burn the squash especially if you opt to use sugar or butter', 'if you feel more comfortable , cover the squash with aluminum foil the first half hour , give or take , of baking', 'if desired , season with salt']   \n",
       "3                                                                                                                                                                                                                                                                                                                               ['preheat oven to 425 degrees f', 'press dough into the bottom and sides of a 12 inch pizza pan', 'bake for 5 minutes until set but not browned', 'cut sausage into small pieces', 'whisk eggs and milk in a bowl until frothy', 'spoon sausage over baked crust and sprinkle with cheese', 'pour egg mixture slowly over sausage and cheese', 's& p to taste', 'bake 15-20 minutes or until eggs are set and crust is brown']   \n",
       "4                                                                                                                                                                                                                                                                                                                               ['preheat oven to 425 degrees f', 'press dough into the bottom and sides of a 12 inch pizza pan', 'bake for 5 minutes until set but not browned', 'cut sausage into small pieces', 'whisk eggs and milk in a bowl until frothy', 'spoon sausage over baked crust and sprinkle with cheese', 'pour egg mixture slowly over sausage and cheese', 's& p to taste', 'bake 15-20 minutes or until eggs are set and crust is brown']   \n",
       "\n",
       "                                                                                                                                                                                              description  \\\n",
       "0  autumn is my favorite time of year to cook! this recipe \\r\\ncan be prepared either spicy or sweet, your choice!\\r\\ntwo of my posted mexican-inspired seasoning mix recipes are offered as suggestions.   \n",
       "1  autumn is my favorite time of year to cook! this recipe \\r\\ncan be prepared either spicy or sweet, your choice!\\r\\ntwo of my posted mexican-inspired seasoning mix recipes are offered as suggestions.   \n",
       "2  autumn is my favorite time of year to cook! this recipe \\r\\ncan be prepared either spicy or sweet, your choice!\\r\\ntwo of my posted mexican-inspired seasoning mix recipes are offered as suggestions.   \n",
       "3                    this recipe calls for the crust to be prebaked a bit before adding ingredients. feel free to change sausage to ham or bacon. this warms well in the microwave for those late risers.   \n",
       "4                    this recipe calls for the crust to be prebaked a bit before adding ingredients. feel free to change sausage to ham or bacon. this warms well in the microwave for those late risers.   \n",
       "\n",
       "   n_ingredients  \\\n",
       "0              7   \n",
       "1              7   \n",
       "2              7   \n",
       "3              6   \n",
       "4              6   \n",
       "\n",
       "                                                                                                                                                                                                                                                                                                                                                                        review  \\\n",
       "0   I used an acorn squash and recipe#137681 Sweet Mexican spice blend. Only used 1 tsp honey & 1 tsp butter between both halves,, sprinkled the squash liberally with the spice mix. Baked covered for 45 minutes uncovered or 15.  I basted the squash   with the the butter/honey from the cavity  allowing it to get a golden color.  Lovely Squash recipe Thanks Cookgirl   \n",
       "1                                                                                                                 This was a nice change. I used butternut squash and the sweet option using a good local honey and unsalted butter. I did not add salt. We ate this on top of recipe#322603 with Balkan yogurt. I may make this again same option. Made for Ramadan Tag 2010.   \n",
       "2                                                                                                                                                                                                                                             Excellent recipe! I used butternut squash and the sweet option. The mexican spice mix put this over the top. Thanks for sharing.   \n",
       "3                                        Have not tried this, but it sounds delicious. Reminds me of a layover I had at the Atlanta airport.  I had a ham, egg, and cheese pizza at one of the pizza chain places on the concourse.  About $2.99 with coffee... It was one of the best breakfast dishes I ever had!  (But a strange place to find a delicious breakfast...lol)   \n",
       "4                                                                                                                                                                                                                         This recipe was wonderful.  Instead of using the precooked sausage I substituted uncooked sausage then cooked and drained it. It turned out perfect!   \n",
       "\n",
       "   Positively_Rated  calories total fat  sugar  sodium  protein  \\\n",
       "0                 0      51.5       0.0   13.0     0.0      2.0   \n",
       "1                 0      51.5       0.0   13.0     0.0      2.0   \n",
       "2                 0      51.5       0.0   13.0     0.0      2.0   \n",
       "3                 1     173.4      18.0    0.0    17.0     22.0   \n",
       "4                 0     173.4      18.0    0.0    17.0     22.0   \n",
       "\n",
       "   saturated fat  carbohydrates  \n",
       "0            0.0            4.0  \n",
       "1            0.0            4.0  \n",
       "2            0.0            4.0  \n",
       "3           35.0            1.0  \n",
       "4           35.0            1.0  "
      ]
     },
     "execution_count": 17,
     "metadata": {},
     "output_type": "execute_result"
    }
   ],
   "source": [
    "%%time\n",
    "df[['calories',\n",
    "    'total fat',\n",
    "    'sugar','sodium',\n",
    "    'protein',\n",
    "    'saturated fat',\n",
    "    'carbohydrates']] = df.nutrition.str.split(\",\",expand=True) \n",
    "\n",
    "df['calories'] =  df['calories'].apply(lambda x: x.replace('[',''))\n",
    "df['carbohydrates'] =  df['carbohydrates'].apply(lambda x: x.replace(']','')) \n",
    "\n",
    "df[['calories',\n",
    "    'total fat ',\n",
    "    'sugar',\n",
    "    'sodium',\n",
    "    'protein',\n",
    "    'saturated fat',\n",
    "    'carbohydrates']] = df[['calories',\n",
    "                                  'total fat',\n",
    "                                  'sugar',\n",
    "                                  'sodium',\n",
    "                                  'protein',\n",
    "                                  'saturated fat',\n",
    "                                  'carbohydrates']].astype('float')\n",
    "\n",
    "\n",
    "df.drop(['id', 'name', 'nutrition',\n",
    "         'ingredients','recipe_id'], axis=1,inplace = True)\n",
    "df = df.iloc[:,:-1]\n",
    "df.head()"
   ]
  },
  {
   "cell_type": "code",
   "execution_count": 18,
   "id": "80ac88ba",
   "metadata": {},
   "outputs": [
    {
     "data": {
      "text/plain": [
       "(1091346, 17)"
      ]
     },
     "execution_count": 18,
     "metadata": {},
     "output_type": "execute_result"
    }
   ],
   "source": [
    "df.shape"
   ]
  },
  {
   "cell_type": "markdown",
   "id": "3cc2459a",
   "metadata": {},
   "source": [
    "## Combine with Review Data "
   ]
  },
  {
   "cell_type": "code",
   "execution_count": null,
   "id": "5d26bd5a",
   "metadata": {},
   "outputs": [],
   "source": [
    "%%time\n",
    "top_20 = reviews.iloc[:,cols]\n",
    "final_df = pd.DataFrame(np.hstack([df, top_20]),\n",
    "                    columns = df.columns.tolist() + top_20.columns.tolist())\n",
    "final_df = final_df.drop(['review'], axis = 1)"
   ]
  },
  {
   "cell_type": "code",
   "execution_count": null,
   "id": "66dfdd9b",
   "metadata": {},
   "outputs": [],
   "source": [
    "final_df = final_df.drop_duplicates(subset=['minutes',\n",
    "                           'n_steps',\n",
    "                           'n_ingredients',\n",
    "    'calories',\n",
    "    'total fat',\n",
    "    'sugar','sodium',\n",
    "    'protein',\n",
    "    'saturated fat',\n",
    "    'carbohydrates'])\n",
    "\n",
    "final_df.head()"
   ]
  },
  {
   "cell_type": "code",
   "execution_count": null,
   "id": "aa21d1a3",
   "metadata": {},
   "outputs": [],
   "source": [
    "final_df.shape"
   ]
  },
  {
   "cell_type": "markdown",
   "id": "7d1aab2a",
   "metadata": {},
   "source": [
    "## Final Linear Classifier"
   ]
  },
  {
   "cell_type": "code",
   "execution_count": null,
   "id": "a4f8cadc",
   "metadata": {},
   "outputs": [],
   "source": [
    "X = final_df.drop(['rating'], axis = 1)\n",
    "X.head()"
   ]
  },
  {
   "cell_type": "code",
   "execution_count": null,
   "id": "1d45d6e9",
   "metadata": {},
   "outputs": [],
   "source": [
    "y = final_df['rating']\n",
    "le = preprocessing.LabelEncoder()\n",
    "y = le.fit_transform(y)\n",
    "rating_labels = [str(i) for i in le.classes_]\n",
    "rating_labels"
   ]
  },
  {
   "cell_type": "markdown",
   "id": "b7a4cff0",
   "metadata": {},
   "source": [
    "### L1"
   ]
  },
  {
   "cell_type": "code",
   "execution_count": null,
   "id": "dbd737ef",
   "metadata": {},
   "outputs": [],
   "source": [
    "alphas = [0.0001,0.001,0.01,0.1,1,10,100,1000]\n",
    "penalty = 'l1'"
   ]
  },
  {
   "cell_type": "code",
   "execution_count": null,
   "id": "886a2def",
   "metadata": {},
   "outputs": [],
   "source": [
    "%%time\n",
    "l1_scores = []\n",
    "\n",
    "for a in alphas:\n",
    "    log  = make_pipeline(StandardScaler(),\n",
    "                         SGDClassifier(loss = \"log\",\n",
    "                                       penalty = penalty,\n",
    "                                       alpha = a,\n",
    "                                       #class_weight = \"balanced\",\n",
    "                                       max_iter=1000, \n",
    "                                       tol=1e-3,\n",
    "                                       random_state = 1))\n",
    "    print(\"Current Alpha:\", a)\n",
    "    avg_score = np.mean(cross_val_score(log, X, y,\n",
    "                                        cv=5,scoring='accuracy',\n",
    "                                        n_jobs=-1))\n",
    "    print(\"Current Average Score:\", avg_score)\n",
    "    l1_scores.append(avg_score)\n",
    "    "
   ]
  },
  {
   "cell_type": "markdown",
   "id": "7dd21fb9",
   "metadata": {},
   "source": [
    "### L2"
   ]
  },
  {
   "cell_type": "code",
   "execution_count": null,
   "id": "8d64f78b",
   "metadata": {},
   "outputs": [],
   "source": [
    "penalty = 'l2'"
   ]
  },
  {
   "cell_type": "code",
   "execution_count": null,
   "id": "e8052c89",
   "metadata": {},
   "outputs": [],
   "source": [
    "%%time\n",
    "l2_scores = []\n",
    "\n",
    "for a in alphas:\n",
    "    log  = make_pipeline(StandardScaler(),\n",
    "                         SGDClassifier(loss = \"log\",\n",
    "                                       penalty = penalty,\n",
    "                                       alpha = a,\n",
    "                                       #class_weight = \"balanced\",\n",
    "                                       max_iter=1000, \n",
    "                                       tol=1e-3,\n",
    "                                       random_state = 1))\n",
    "    print(\"Current Alpha:\", a)\n",
    "    avg_score = np.mean(cross_val_score(log, X, y,\n",
    "                                        cv=5,\n",
    "                                        scoring='accuracy',\n",
    "                                        n_jobs=-1))\n",
    "    print(\"Current Average Score:\", avg_score)\n",
    "    l2_scores.append(avg_score)\n",
    "    "
   ]
  },
  {
   "cell_type": "markdown",
   "id": "c3cb103d",
   "metadata": {},
   "source": [
    "### Table Report "
   ]
  },
  {
   "cell_type": "code",
   "execution_count": null,
   "id": "4b90c420",
   "metadata": {},
   "outputs": [],
   "source": [
    "table_report = {'Alphas':alphas,\n",
    "               'L1 Penalty - Accuracy': l1_scores,\n",
    "               'L2 Penalty - Accuracy': l2_scores}\n",
    "\n",
    "table_df = pd.DataFrame(table_report)\n",
    "table_df = table_df.set_index('Alphas')\n",
    "table_df"
   ]
  },
  {
   "cell_type": "markdown",
   "id": "d55f3127",
   "metadata": {},
   "source": [
    "### Regularization Accuracy Plot "
   ]
  },
  {
   "cell_type": "code",
   "execution_count": null,
   "id": "9f36eb16",
   "metadata": {
    "scrolled": true
   },
   "outputs": [],
   "source": [
    "fig,ax=plt.subplots(figsize=(7,5))\n",
    "ax.plot(table_df.index,\n",
    "        table_df[\"L1 Penalty - Accuracy\"],\n",
    "       label = 'L1 Penalty')\n",
    "ax.set(xscale=\"log\")\n",
    "\n",
    "ax.plot(table_df.index,\n",
    "        table_df[\"L2 Penalty - Accuracy\"],\n",
    "       label = 'L2 Penalty')\n",
    "ax.set(xscale=\"log\")\n",
    "\n",
    "plt.legend()\n",
    "plt.show()"
   ]
  },
  {
   "cell_type": "markdown",
   "id": "f5f15bfc",
   "metadata": {},
   "source": [
    "## Final Model "
   ]
  },
  {
   "cell_type": "code",
   "execution_count": null,
   "id": "231e34b5",
   "metadata": {},
   "outputs": [],
   "source": [
    "X_train, X_test, y_train, y_test = train_test_split(X, y, test_size=0.33, random_state = 1)\n",
    "print(X_train.shape, X_test.shape, y_train.shape, y_test.shape)"
   ]
  },
  {
   "cell_type": "code",
   "execution_count": null,
   "id": "b09fe881",
   "metadata": {},
   "outputs": [],
   "source": [
    "# Optimal Parameters\n",
    "penalty = 'l1'\n",
    "alpha = 0.0001\n",
    "\n",
    "# Model\n",
    "log  = make_pipeline(StandardScaler(),\n",
    "                     SGDClassifier(loss = \"log\",\n",
    "                                   penalty = penalty,\n",
    "                                   alpha = alpha,\n",
    "                                   max_iter=1000, \n",
    "                                   tol=1e-3,\n",
    "                                   random_state = 1))\n",
    "# Fit Model\n",
    "log.fit(X_train,y_train)\n",
    "\n",
    "# make predictions\n",
    "ypred = log.predict(X_test)\n",
    "# evaluate predictions\n",
    "acc = accuracy_score(y_test, ypred)\n",
    "print('Accuracy: %.3f' % acc)"
   ]
  },
  {
   "cell_type": "markdown",
   "id": "529a2732",
   "metadata": {},
   "source": [
    "## Logistic Model Confusion Matrix"
   ]
  },
  {
   "cell_type": "code",
   "execution_count": null,
   "id": "1a7b229b",
   "metadata": {},
   "outputs": [],
   "source": [
    "plot_confusion_matrix(log, X_test, y_test)\n",
    "plt.show()"
   ]
  },
  {
   "cell_type": "markdown",
   "id": "1d258fe9",
   "metadata": {},
   "source": [
    "## Logistic Model Classification Report"
   ]
  },
  {
   "cell_type": "code",
   "execution_count": null,
   "id": "4f3847b6",
   "metadata": {},
   "outputs": [],
   "source": [
    "print(classification_report(y_test, ypred))"
   ]
  }
 ],
 "metadata": {
  "kernelspec": {
   "display_name": "Python [conda env:USD] *",
   "language": "python",
   "name": "conda-env-USD-py"
  },
  "language_info": {
   "codemirror_mode": {
    "name": "ipython",
    "version": 3
   },
   "file_extension": ".py",
   "mimetype": "text/x-python",
   "name": "python",
   "nbconvert_exporter": "python",
   "pygments_lexer": "ipython3",
   "version": "3.7.10"
  },
  "toc": {
   "base_numbering": 1,
   "nav_menu": {},
   "number_sections": true,
   "sideBar": true,
   "skip_h1_title": false,
   "title_cell": "Table of Contents",
   "title_sidebar": "Contents",
   "toc_cell": false,
   "toc_position": {},
   "toc_section_display": true,
   "toc_window_display": false
  }
 },
 "nbformat": 4,
 "nbformat_minor": 5
}
